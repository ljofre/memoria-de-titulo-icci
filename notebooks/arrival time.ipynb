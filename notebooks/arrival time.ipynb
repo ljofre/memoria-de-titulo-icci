{
 "cells": [
  {
   "cell_type": "markdown",
   "metadata": {},
   "source": [
    "Estimación del tiempo de llegada por medio de una red neuronal\n",
    "=="
   ]
  },
  {
   "cell_type": "code",
   "execution_count": 1,
   "metadata": {
    "collapsed": false
   },
   "outputs": [
    {
     "name": "stderr",
     "output_type": "stream",
     "text": [
      "/usr/local/lib/python2.7/site-packages/matplotlib/font_manager.py:273: UserWarning: Matplotlib is building the font cache using fc-list. This may take a moment.\n",
      "  warnings.warn('Matplotlib is building the font cache using fc-list. This may take a moment.')\n"
     ]
    }
   ],
   "source": [
    "%matplotlib inline"
   ]
  },
  {
   "cell_type": "markdown",
   "metadata": {},
   "source": [
    "Este es un ejemplo de señal sísmica para el campo de desplazamiento, la linea azul más a la izquiera es el tiempo de llegada de la onda P y la linea vertical más a la derecha es el tiempo de llegada de la onda s."
   ]
  },
  {
   "cell_type": "code",
   "execution_count": 2,
   "metadata": {
    "collapsed": false
   },
   "outputs": [],
   "source": [
    "from seismic_source import SeismicEvent\n",
    "import matplotlib.pylab as plt"
   ]
  },
  {
   "cell_type": "code",
   "execution_count": 4,
   "metadata": {
    "collapsed": false
   },
   "outputs": [
    {
     "name": "stdout",
     "output_type": "stream",
     "text": [
      "importado!\n"
     ]
    },
    {
     "data": {
      "text/plain": [
       "<matplotlib.lines.Line2D at 0x11230eb10>"
      ]
     },
     "execution_count": 4,
     "metadata": {},
     "output_type": "execute_result"
    },
    {
     "data": {
      "image/png": "[encoded data removed]",
      "text/plain": [
       "<matplotlib.figure.Figure at 0x11230ee90>"
      ]
     },
     "metadata": {},
     "output_type": "display_data"
    }
   ],
   "source": [
    "e = SeismicEvent.evento(\"../data-sets/1998_aug_07_16_24_33.i6b\")\n",
    "seis_info = e.seismograms[1]\n",
    "seis_info.data.plot()\n",
    "plt.axvline(x=seis_info.data.index[seis_info.P_pick])\n",
    "plt.axvline(x=seis_info.data.index[seis_info.S_pick])"
   ]
  },
  {
   "cell_type": "markdown",
   "metadata": {},
   "source": [
    "Estimación de la llegada de la onda p y s\n",
    "==\n",
    "Usaremos una red neuronal para estimar el tiempo de llegada de la onda P y S"
   ]
  },
  {
   "cell_type": "code",
   "execution_count": 2,
   "metadata": {
    "collapsed": false
   },
   "outputs": [],
   "source": [
    "import numpy as np # matrix operations\n",
    "import pandas as pd # dataframes"
   ]
  },
  {
   "cell_type": "code",
   "execution_count": 3,
   "metadata": {
    "collapsed": false
   },
   "outputs": [],
   "source": [
    "#leer el data set del sismo\n",
    "from seismic_source import SeismicEvent"
   ]
  },
  {
   "cell_type": "code",
   "execution_count": 7,
   "metadata": {
    "collapsed": false
   },
   "outputs": [],
   "source": []
  },
  {
   "cell_type": "code",
   "execution_count": null,
   "metadata": {
    "collapsed": true
   },
   "outputs": [],
   "source": [
    "\"\"\"\n",
    "\n",
    "Objetivo: Generar los datos de entrenamiento\n",
    "Secuencia de pasos\n",
    "\n",
    "0. Seleccionar un sismograma de un evento sismico\n",
    "\n",
    "1. Agregar columnas con un cumsum del cuadrado de los datos dividido por el maximo del cumsum\n",
    "   de los cuadrados de los datos (información global)\n",
    "   \n",
    "2. Seleccionar los datos del sismograma\n",
    "\n",
    "3. Generar una columna indicando el indice en donde ocurre la llegada de la onda P\n",
    "\n",
    "4. Generar una columna indicando el indice en donde ocurre la llegada de la onda S\n",
    "\n",
    "5. eliminar el indice temporal para generar un indice autoincremental\n",
    "\n",
    "6. Seleccionar un ancho de ventana de datos para el sismo\n",
    "\n",
    "7. Separar las entradas y las salidas en los datos de entrenamiento\n",
    "\n",
    "\"\"\"\n",
    "\n",
    "e = SeismicEvent.evento(\"../data-sets/1998_aug_07_16_24_33.i6b\")\n",
    "\n",
    "for seismogram in e.seismograms:\n",
    "\n",
    "    data = seismogram.data # (1)\n",
    "\n",
    "    data[['c0','c1','c2']] = (data**2).cumsum()/(data**2).cumsum().max() # (2)\n",
    "\n",
    "    p_indicator = np.zeros(data.shape[0])\n",
    "    p_indicator[e.seismograms[0].P_pick] = 1 \n",
    "    p_df = pd.DataFrame(data= p_indicator, index=data.index) \n",
    "    data['p'] = p_df # (3)\n",
    "\n",
    "    s_indicator = np.zeros(data.shape[0])\n",
    "    s_indicator[e.seismograms[0].S_pick] = 1 \n",
    "    s_df = pd.DataFrame(data= s_indicator, index=data.index) \n",
    "    data['s'] = s_df # (4)\n",
    "\n",
    "    data.index = pd.DataFrame(range(data.index.values.shape[0])) #(5)\n",
    "\n",
    "    n = 50 # (6)\n",
    "\n",
    "    N = data.shape[0]\n",
    "    for i in np.arange(N - n):\n",
    "        case = data[i:(i + n)]\n",
    "        trainning_case = np.hstack((case[0].values,\n",
    "                                   case[1].values,\n",
    "                                   case[2].values,\n",
    "                                   case['c0'].values,\n",
    "                                   case['c1'].values,\n",
    "                                   case['c2'].values,\n",
    "                                   case.p.sum(),\n",
    "                                   case.s.sum()))\n",
    "        \n",
    "        try:\n",
    "            final_trainning_data = np.vstack((final_trainning_data, trainning_case))\n",
    "        except NameError:\n",
    "            final_trainning_data = trainning_case"
   ]
  },
  {
   "cell_type": "code",
   "execution_count": null,
   "metadata": {
    "collapsed": false
   },
   "outputs": [
    {
     "name": "stdout",
     "output_type": "stream",
     "text": [
      "importado!\n"
     ]
    }
   ],
   "source": [
    "X = final_trainning_data[:, 0:(3*n)] \n",
    "Y = final_trainning_data[:, 3*n:(3*n+2)] # (7)"
   ]
  },
  {
   "cell_type": "code",
   "execution_count": 36,
   "metadata": {
    "collapsed": false
   },
   "outputs": [
    {
     "data": {
      "text/plain": [
       "(4038, 302)"
      ]
     },
     "execution_count": 36,
     "metadata": {},
     "output_type": "execute_result"
    }
   ],
   "source": [
    "final_trainning_data.shape"
   ]
  },
  {
   "cell_type": "code",
   "execution_count": 29,
   "metadata": {
    "collapsed": false
   },
   "outputs": [],
   "source": [
    "#construccion del modelo\n",
    "from keras.models import Sequential\n",
    "from keras.layers import Dense"
   ]
  },
  {
   "cell_type": "code",
   "execution_count": 31,
   "metadata": {
    "collapsed": false
   },
   "outputs": [],
   "source": [
    "model = Sequential()\n",
    "model.add(Dense(X.shape[1], input_dim=X.shape[1], init='uniform', activation='relu'))\n",
    "#model.add(Dense(8, init='uniform', activation='relu'))\n",
    "model.add(Dense(2, init='uniform', activation='sigmoid'))"
   ]
  },
  {
   "cell_type": "code",
   "execution_count": 32,
   "metadata": {
    "collapsed": true
   },
   "outputs": [],
   "source": [
    "model.compile(loss='binary_crossentropy', optimizer='adam', metrics=['accuracy'])"
   ]
  },
  {
   "cell_type": "code",
   "execution_count": null,
   "metadata": {
    "collapsed": false
   },
   "outputs": [
    {
     "name": "stdout",
     "output_type": "stream",
     "text": [
      "Epoch 1/150\n",
      "4038/4038 [==============================] - 3s - loss: 0.1964 - acc: 0.9861     \n",
      "Epoch 2/150\n",
      "4038/4038 [==============================] - 2s - loss: 0.0657 - acc: 0.9876     \n",
      "Epoch 3/150\n",
      "4038/4038 [==============================] - 2s - loss: 0.0649 - acc: 0.9876     \n",
      "Epoch 4/150\n",
      "4038/4038 [==============================] - 2s - loss: 0.0642 - acc: 0.9876     \n",
      "Epoch 5/150\n",
      "4038/4038 [==============================] - 3s - loss: 0.0634 - acc: 0.9876     \n",
      "Epoch 6/150\n",
      "4038/4038 [==============================] - 2s - loss: 0.0624 - acc: 0.9876     \n",
      "Epoch 7/150\n",
      "4038/4038 [==============================] - 2s - loss: 0.0617 - acc: 0.9876     \n",
      "Epoch 8/150\n",
      "4038/4038 [==============================] - 2s - loss: 0.0605 - acc: 0.9876     \n",
      "Epoch 9/150\n",
      "4038/4038 [==============================] - 2s - loss: 0.0597 - acc: 0.9876     \n",
      "Epoch 10/150\n",
      "4038/4038 [==============================] - 2s - loss: 0.0583 - acc: 0.9876     \n",
      "Epoch 11/150\n",
      "4038/4038 [==============================] - 2s - loss: 0.0570 - acc: 0.9876     \n",
      "Epoch 12/150\n",
      "4038/4038 [==============================] - 3s - loss: 0.0555 - acc: 0.9876     \n",
      "Epoch 13/150\n",
      "4038/4038 [==============================] - 2s - loss: 0.0535 - acc: 0.9876     \n",
      "Epoch 14/150\n",
      "4038/4038 [==============================] - 2s - loss: 0.0516 - acc: 0.9876     \n",
      "Epoch 15/150\n",
      "4038/4038 [==============================] - 2s - loss: 0.0494 - acc: 0.9876     \n",
      "Epoch 16/150\n",
      "4038/4038 [==============================] - 2s - loss: 0.0470 - acc: 0.9876     \n",
      "Epoch 17/150\n",
      "4038/4038 [==============================] - 2s - loss: 0.0449 - acc: 0.9876     \n",
      "Epoch 18/150\n",
      "4038/4038 [==============================] - 2s - loss: 0.0429 - acc: 0.9876     \n",
      "Epoch 19/150\n",
      "4038/4038 [==============================] - 2s - loss: 0.0410 - acc: 0.9876     \n",
      "Epoch 20/150\n",
      "4038/4038 [==============================] - 2s - loss: 0.0396 - acc: 0.9881     \n",
      "Epoch 21/150\n",
      "4038/4038 [==============================] - 2s - loss: 0.0385 - acc: 0.9900     \n",
      "Epoch 22/150\n",
      "4038/4038 [==============================] - 2s - loss: 0.0377 - acc: 0.9906     \n",
      "Epoch 23/150\n",
      "4038/4038 [==============================] - 2s - loss: 0.0369 - acc: 0.9907     \n",
      "Epoch 24/150\n",
      "4038/4038 [==============================] - 2s - loss: 0.0357 - acc: 0.9908     \n",
      "Epoch 25/150\n",
      "4038/4038 [==============================] - 2s - loss: 0.0353 - acc: 0.9915     \n",
      "Epoch 26/150\n",
      "4038/4038 [==============================] - 2s - loss: 0.0346 - acc: 0.9912     \n",
      "Epoch 27/150\n",
      "4038/4038 [==============================] - 2s - loss: 0.0340 - acc: 0.9917     \n",
      "Epoch 28/150\n",
      "4038/4038 [==============================] - 2s - loss: 0.0337 - acc: 0.9915     \n",
      "Epoch 29/150\n",
      "4038/4038 [==============================] - 3s - loss: 0.0331 - acc: 0.9918     \n",
      "Epoch 30/150\n",
      "4038/4038 [==============================] - 2s - loss: 0.0327 - acc: 0.9916     \n",
      "Epoch 31/150\n",
      "4038/4038 [==============================] - 2s - loss: 0.0322 - acc: 0.9917     \n",
      "Epoch 32/150\n",
      "4038/4038 [==============================] - 2s - loss: 0.0317 - acc: 0.9917     \n",
      "Epoch 33/150\n",
      "4038/4038 [==============================] - 2s - loss: 0.0313 - acc: 0.9920     \n",
      "Epoch 34/150\n",
      "4038/4038 [==============================] - 2s - loss: 0.0307 - acc: 0.9923     \n",
      "Epoch 35/150\n",
      "4038/4038 [==============================] - 2s - loss: 0.0303 - acc: 0.9918     \n",
      "Epoch 36/150\n",
      "4038/4038 [==============================] - 2s - loss: 0.0298 - acc: 0.9924     \n",
      "Epoch 37/150\n",
      "4038/4038 [==============================] - 2s - loss: 0.0295 - acc: 0.9922     \n",
      "Epoch 38/150\n",
      "4038/4038 [==============================] - 2s - loss: 0.0292 - acc: 0.9923     \n",
      "Epoch 39/150\n",
      "4038/4038 [==============================] - 2s - loss: 0.0286 - acc: 0.9922     \n",
      "Epoch 40/150\n",
      "4038/4038 [==============================] - 2s - loss: 0.0280 - acc: 0.9927     \n",
      "Epoch 41/150\n",
      "4038/4038 [==============================] - 2s - loss: 0.0278 - acc: 0.9926     \n",
      "Epoch 42/150\n",
      "4038/4038 [==============================] - 2s - loss: 0.0274 - acc: 0.9924     \n",
      "Epoch 43/150\n",
      "4038/4038 [==============================] - 2s - loss: 0.0267 - acc: 0.9931     \n",
      "Epoch 44/150\n",
      "4038/4038 [==============================] - 2s - loss: 0.0267 - acc: 0.9927     \n",
      "Epoch 45/150\n",
      "4038/4038 [==============================] - 2s - loss: 0.0261 - acc: 0.9928     \n",
      "Epoch 46/150\n",
      "4038/4038 [==============================] - 2s - loss: 0.0258 - acc: 0.9931     \n",
      "Epoch 47/150\n",
      "4038/4038 [==============================] - 2s - loss: 0.0256 - acc: 0.9931     \n",
      "Epoch 48/150\n",
      "4038/4038 [==============================] - 2s - loss: 0.0253 - acc: 0.9929     \n",
      "Epoch 49/150\n",
      "4038/4038 [==============================] - 2s - loss: 0.0249 - acc: 0.9926     \n",
      "Epoch 50/150\n",
      "4038/4038 [==============================] - 2s - loss: 0.0247 - acc: 0.9932     \n",
      "Epoch 51/150\n",
      "4038/4038 [==============================] - 2s - loss: 0.0243 - acc: 0.9931     \n",
      "Epoch 52/150\n",
      "4038/4038 [==============================] - 2s - loss: 0.0243 - acc: 0.9932     \n",
      "Epoch 53/150\n",
      "4038/4038 [==============================] - 2s - loss: 0.0237 - acc: 0.9934     \n",
      "Epoch 54/150\n",
      "4038/4038 [==============================] - 2s - loss: 0.0234 - acc: 0.9932     \n",
      "Epoch 55/150\n",
      "4038/4038 [==============================] - 2s - loss: 0.0234 - acc: 0.9933     \n",
      "Epoch 56/150\n",
      "4038/4038 [==============================] - 2s - loss: 0.0232 - acc: 0.9932     \n",
      "Epoch 57/150\n",
      "4038/4038 [==============================] - 2s - loss: 0.0228 - acc: 0.9933     \n",
      "Epoch 58/150\n",
      "4038/4038 [==============================] - 2s - loss: 0.0225 - acc: 0.9932     \n",
      "Epoch 59/150\n",
      "4038/4038 [==============================] - 2s - loss: 0.0226 - acc: 0.9931     \n",
      "Epoch 60/150\n",
      "4038/4038 [==============================] - 2s - loss: 0.0220 - acc: 0.9932     \n",
      "Epoch 61/150\n",
      "4038/4038 [==============================] - 2s - loss: 0.0218 - acc: 0.9934     \n",
      "Epoch 62/150\n",
      "4038/4038 [==============================] - 2s - loss: 0.0213 - acc: 0.9934     \n",
      "Epoch 63/150\n",
      "4038/4038 [==============================] - 2s - loss: 0.0219 - acc: 0.9934     \n",
      "Epoch 64/150\n",
      "4038/4038 [==============================] - 2s - loss: 0.0212 - acc: 0.9931     \n",
      "Epoch 65/150\n",
      "4038/4038 [==============================] - 2s - loss: 0.0210 - acc: 0.9932     \n",
      "Epoch 66/150\n",
      "4038/4038 [==============================] - 2s - loss: 0.0211 - acc: 0.9933     \n",
      "Epoch 67/150\n",
      "4038/4038 [==============================] - 2s - loss: 0.0207 - acc: 0.9934     \n",
      "Epoch 68/150\n",
      "4038/4038 [==============================] - 2s - loss: 0.0207 - acc: 0.9936     \n",
      "Epoch 69/150\n",
      "4038/4038 [==============================] - 2s - loss: 0.0204 - acc: 0.9932     \n",
      "Epoch 70/150\n",
      "4038/4038 [==============================] - 2s - loss: 0.0200 - acc: 0.9936     \n",
      "Epoch 71/150\n",
      "4038/4038 [==============================] - 2s - loss: 0.0203 - acc: 0.9934     \n",
      "Epoch 72/150\n",
      "4038/4038 [==============================] - 2s - loss: 0.0200 - acc: 0.9931     \n",
      "Epoch 73/150\n",
      "4038/4038 [==============================] - 2s - loss: 0.0198 - acc: 0.9936     \n",
      "Epoch 74/150\n",
      "4038/4038 [==============================] - 2s - loss: 0.0197 - acc: 0.9931     \n",
      "Epoch 75/150\n",
      "4038/4038 [==============================] - 2s - loss: 0.0196 - acc: 0.9934     \n",
      "Epoch 76/150\n",
      "4038/4038 [==============================] - 2s - loss: 0.0193 - acc: 0.9933     \n",
      "Epoch 77/150\n",
      "4038/4038 [==============================] - 2s - loss: 0.0192 - acc: 0.9934     \n",
      "Epoch 78/150\n",
      "4038/4038 [==============================] - 2s - loss: 0.0194 - acc: 0.9932     \n",
      "Epoch 79/150\n",
      "4038/4038 [==============================] - 2s - loss: 0.0190 - acc: 0.9934     \n",
      "Epoch 80/150\n",
      "4038/4038 [==============================] - 2s - loss: 0.0191 - acc: 0.9933     \n",
      "Epoch 81/150\n",
      "4038/4038 [==============================] - 2s - loss: 0.0186 - acc: 0.9934     \n",
      "Epoch 82/150\n",
      "4038/4038 [==============================] - 2s - loss: 0.0186 - acc: 0.9934     \n",
      "Epoch 83/150\n",
      "4038/4038 [==============================] - 2s - loss: 0.0185 - acc: 0.9934     \n",
      "Epoch 84/150\n",
      "4038/4038 [==============================] - 2s - loss: 0.0185 - acc: 0.9933     \n",
      "Epoch 85/150\n",
      "4038/4038 [==============================] - 2s - loss: 0.0181 - acc: 0.9937     \n",
      "Epoch 86/150\n",
      "4038/4038 [==============================] - 2s - loss: 0.0180 - acc: 0.9934     \n",
      "Epoch 87/150\n",
      "4038/4038 [==============================] - 2s - loss: 0.0180 - acc: 0.9932     \n",
      "Epoch 88/150\n",
      "4038/4038 [==============================] - 2s - loss: 0.0179 - acc: 0.9932     \n",
      "Epoch 89/150\n",
      "4038/4038 [==============================] - 2s - loss: 0.0177 - acc: 0.9934     \n",
      "Epoch 90/150\n",
      "4038/4038 [==============================] - 2s - loss: 0.0178 - acc: 0.9933     \n",
      "Epoch 91/150\n",
      "4038/4038 [==============================] - 2s - loss: 0.0175 - acc: 0.9934     \n",
      "Epoch 92/150\n",
      "4038/4038 [==============================] - 2s - loss: 0.0177 - acc: 0.9933     \n",
      "Epoch 93/150\n",
      "4038/4038 [==============================] - 2s - loss: 0.0169 - acc: 0.9933     \n",
      "Epoch 94/150\n",
      "4038/4038 [==============================] - 2s - loss: 0.0169 - acc: 0.9934     \n",
      "Epoch 95/150\n",
      "4038/4038 [==============================] - 2s - loss: 0.0172 - acc: 0.9933     \n",
      "Epoch 96/150\n",
      "4038/4038 [==============================] - 2s - loss: 0.0171 - acc: 0.9933     \n",
      "Epoch 97/150\n",
      "4038/4038 [==============================] - 3s - loss: 0.0166 - acc: 0.9937     \n",
      "Epoch 98/150\n",
      "4038/4038 [==============================] - 2s - loss: 0.0166 - acc: 0.9933     \n",
      "Epoch 99/150\n",
      "4038/4038 [==============================] - 2s - loss: 0.0164 - acc: 0.9934     \n",
      "Epoch 100/150\n",
      "4038/4038 [==============================] - 2s - loss: 0.0164 - acc: 0.9932     \n",
      "Epoch 101/150\n",
      "4038/4038 [==============================] - 2s - loss: 0.0163 - acc: 0.9934     \n",
      "Epoch 102/150\n",
      "4038/4038 [==============================] - 2s - loss: 0.0162 - acc: 0.9937     \n",
      "Epoch 103/150\n",
      "4038/4038 [==============================] - 2s - loss: 0.0159 - acc: 0.9936     \n",
      "Epoch 104/150\n",
      "4038/4038 [==============================] - 2s - loss: 0.0157 - acc: 0.9936     \n",
      "Epoch 105/150\n",
      "4038/4038 [==============================] - 2s - loss: 0.0158 - acc: 0.9937     \n",
      "Epoch 106/150\n",
      "4038/4038 [==============================] - 2s - loss: 0.0155 - acc: 0.9936     \n",
      "Epoch 107/150\n",
      "4038/4038 [==============================] - 2s - loss: 0.0150 - acc: 0.9937     \n",
      "Epoch 108/150\n",
      "4038/4038 [==============================] - 2s - loss: 0.0157 - acc: 0.9936     \n",
      "Epoch 109/150\n",
      "4038/4038 [==============================] - 2s - loss: 0.0151 - acc: 0.9938     \n",
      "Epoch 110/150\n",
      "4038/4038 [==============================] - 2s - loss: 0.0148 - acc: 0.9934     \n",
      "Epoch 111/150\n",
      "4038/4038 [==============================] - 2s - loss: 0.0146 - acc: 0.9936     \n",
      "Epoch 112/150\n",
      "4038/4038 [==============================] - 2s - loss: 0.0149 - acc: 0.9936     \n",
      "Epoch 113/150\n",
      "4038/4038 [==============================] - 2s - loss: 0.0150 - acc: 0.9941     \n",
      "Epoch 114/150\n",
      "4038/4038 [==============================] - 2s - loss: 0.0147 - acc: 0.9936     \n",
      "Epoch 115/150\n",
      "4038/4038 [==============================] - 2s - loss: 0.0143 - acc: 0.9939     \n",
      "Epoch 116/150\n",
      "4038/4038 [==============================] - 2s - loss: 0.0146 - acc: 0.9939     \n",
      "Epoch 117/150\n",
      "4038/4038 [==============================] - 2s - loss: 0.0140 - acc: 0.9939     \n",
      "Epoch 118/150\n",
      "4038/4038 [==============================] - 2s - loss: 0.0144 - acc: 0.9939     \n",
      "Epoch 119/150\n",
      "4038/4038 [==============================] - 2s - loss: 0.0138 - acc: 0.9946     \n",
      "Epoch 120/150\n",
      "4038/4038 [==============================] - 2s - loss: 0.0137 - acc: 0.9952     \n",
      "Epoch 121/150\n",
      "4038/4038 [==============================] - 2s - loss: 0.0134 - acc: 0.9949     \n",
      "Epoch 122/150\n",
      "4038/4038 [==============================] - 2s - loss: 0.0132 - acc: 0.9957     \n",
      "Epoch 123/150\n",
      "4038/4038 [==============================] - 2s - loss: 0.0138 - acc: 0.9950     \n",
      "Epoch 124/150\n",
      "4038/4038 [==============================] - 2s - loss: 0.0135 - acc: 0.9957     \n",
      "Epoch 125/150\n",
      "4038/4038 [==============================] - 2s - loss: 0.0131 - acc: 0.9957     \n",
      "Epoch 126/150\n",
      "4038/4038 [==============================] - 2s - loss: 0.0131 - acc: 0.9962     \n",
      "Epoch 127/150\n",
      "4038/4038 [==============================] - 2s - loss: 0.0129 - acc: 0.9953     \n",
      "Epoch 128/150\n",
      "4038/4038 [==============================] - 2s - loss: 0.0130 - acc: 0.9958     \n",
      "Epoch 129/150\n",
      "4038/4038 [==============================] - 2s - loss: 0.0125 - acc: 0.9960     \n",
      "Epoch 130/150\n",
      "4038/4038 [==============================] - 2s - loss: 0.0131 - acc: 0.9964     \n",
      "Epoch 131/150\n",
      "4038/4038 [==============================] - 2s - loss: 0.0115 - acc: 0.9970     \n",
      "Epoch 132/150\n",
      "4038/4038 [==============================] - 2s - loss: 0.0124 - acc: 0.9962     \n",
      "Epoch 133/150\n",
      "4038/4038 [==============================] - 2s - loss: 0.0125 - acc: 0.9965     \n",
      "Epoch 134/150\n",
      "4038/4038 [==============================] - 2s - loss: 0.0117 - acc: 0.9962     \n",
      "Epoch 135/150\n",
      "2930/4038 [====================>.........] - ETA: 0s - loss: 0.0120 - acc: 0.9971"
     ]
    }
   ],
   "source": [
    "model.fit(X, Y, nb_epoch=150, batch_size=10)"
   ]
  },
  {
   "cell_type": "code",
   "execution_count": 17,
   "metadata": {
    "collapsed": false
   },
   "outputs": [
    {
     "data": {
      "text/plain": [
       "[<matplotlib.lines.Line2D at 0x113259950>,\n",
       " <matplotlib.lines.Line2D at 0x113259b50>]"
      ]
     },
     "execution_count": 17,
     "metadata": {},
     "output_type": "execute_result"
    },
    {
     "data": {
      "image/png": "[encoded data removed]",
      "text/plain": [
       "<matplotlib.figure.Figure at 0x111cf9d90>"
      ]
     },
     "metadata": {},
     "output_type": "display_data"
    }
   ],
   "source": [
    "predictions = model.predict(X)\n",
    "plt.plot(predictions)"
   ]
  },
  {
   "cell_type": "code",
   "execution_count": 16,
   "metadata": {
    "collapsed": false
   },
   "outputs": [
    {
     "data": {
      "text/plain": [
       "[<matplotlib.lines.Line2D at 0x109d273d0>,\n",
       " <matplotlib.lines.Line2D at 0x109d275d0>]"
      ]
     },
     "execution_count": 16,
     "metadata": {},
     "output_type": "execute_result"
    },
    {
     "data": {
      "image/png": "[encoded data removed]",
      "text/plain": [
       "<matplotlib.figure.Figure at 0x1159c7250>"
      ]
     },
     "metadata": {},
     "output_type": "display_data"
    }
   ],
   "source": [
    "plt.plot(Y)"
   ]
  },
  {
   "cell_type": "code",
   "execution_count": null,
   "metadata": {
    "collapsed": true
   },
   "outputs": [],
   "source": []
  }
 ],
 "metadata": {
  "kernelspec": {
   "display_name": "Python 2",
   "language": "python",
   "name": "python2"
  },
  "language_info": {
   "codemirror_mode": {
    "name": "ipython",
    "version": 2
   },
   "file_extension": ".py",
   "mimetype": "text/x-python",
   "name": "python",
   "nbconvert_exporter": "python",
   "pygments_lexer": "ipython2",
   "version": "2.7.12"
  }
 },
 "nbformat": 4,
 "nbformat_minor": 0
}
