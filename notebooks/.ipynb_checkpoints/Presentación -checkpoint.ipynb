{
 "cells": [
  {
   "cell_type": "code",
   "execution_count": 1,
   "metadata": {
    "collapsed": false
   },
   "outputs": [],
   "source": [
    "%matplotlib inline\n",
    "\n",
    "import matplotlib as mp\n",
    "import matplotlib.pylab as plt\n",
    "import numpy as np\n",
    "import numpy.linalg as ln\n",
    "import scipy as sp\n",
    "import pandas as pd\n",
    "\n",
    "#libreria sismica\n",
    "from seismic_source import SeismicEvent, Source"
   ]
  },
  {
   "cell_type": "markdown",
   "metadata": {
    "collapsed": true
   },
   "source": [
    "descomposición en componentes principales de un evento sísmico\n",
    "\n"
   ]
  },
  {
   "cell_type": "code",
   "execution_count": 4,
   "metadata": {
    "collapsed": false
   },
   "outputs": [
    {
     "name": "stdout",
     "output_type": "stream",
     "text": [
      "importado!\n"
     ]
    }
   ],
   "source": [
    "e = SeismicEvent.evento(\"../data-sets/2011_apr_10_07_52\")\n",
    "ss = e.seismograms[0]\n",
    "u = np.array([ss.X_coord, ss.Y_coord, ss.Z_coord])"
   ]
  },
  {
   "cell_type": "code",
   "execution_count": 5,
   "metadata": {
    "collapsed": false
   },
   "outputs": [
    {
     "data": {
      "text/plain": [
       "array([ -650.409973, -1423.780029, -2202.659912])"
      ]
     },
     "execution_count": 5,
     "metadata": {},
     "output_type": "execute_result"
    }
   ],
   "source": [
    "u"
   ]
  },
  {
   "cell_type": "code",
   "execution_count": null,
   "metadata": {
    "collapsed": false
   },
   "outputs": [],
   "source": [
    "f, (ax1, ax2, ax3) = plt.subplots(3, sharex=True, sharey=True)\n",
    "ax1.plot(ss.data[:,2])\n",
    "ax2.plot(ss.data[:,3])\n",
    "ax3.plot(ss.data[:,4])"
   ]
  },
  {
   "cell_type": "code",
   "execution_count": null,
   "metadata": {
    "collapsed": false
   },
   "outputs": [],
   "source": [
    "#descomposicion ortgonal\n",
    "covariance_matrix = cov(cumsum(ss.data[:, 2:5], axis=1), rowvar=0)\n",
    "eig_val, eig_vec = eig(covariance_matrix)\n",
    "\n",
    "# verificar que la matriz sea simetrica y que el cambio de base produzca\n",
    "# covarianza cero entre las 3 se~nales retornar el cambio de dase\n",
    "rot = dot(cumsum(ss.data[:, 2:5], axis=1), eig_vec)\n",
    "\n",
    "f, (ax1, ax2, ax3) = plt.subplots(3, sharex=True, sharey=True)\n",
    "ax1.plot(rot[:,0])\n",
    "ax2.plot(rot[:,1])\n",
    "ax3.plot(rot[:,2])"
   ]
  },
  {
   "cell_type": "code",
   "execution_count": null,
   "metadata": {
    "collapsed": false
   },
   "outputs": [],
   "source": [
    "ss.data[:, 2:5]"
   ]
  },
  {
   "cell_type": "code",
   "execution_count": null,
   "metadata": {
    "collapsed": false
   },
   "outputs": [],
   "source": [
    "import numpy as np\n",
    "from numpy import *\n",
    "from matplotlib import pyplot as plt\n",
    "\n",
    "from matplotlib.patches import FancyArrowPatch\n",
    "from mpl_toolkits.mplot3d import proj3d\n",
    "\n",
    "class Arrow3D(FancyArrowPatch):\n",
    "    def __init__(self, xs, ys, zs, *args, **kwargs):\n",
    "        FancyArrowPatch.__init__(self, (0,0), (0,0), *args, **kwargs)\n",
    "        self._verts3d = xs, ys, zs\n",
    "\n",
    "    def draw(self, renderer):\n",
    "        xs3d, ys3d, zs3d = self._verts3d\n",
    "        xs, ys, zs = proj3d.proj_transform(xs3d, ys3d, zs3d, renderer.M)\n",
    "        self.set_positions((xs[0],ys[0]),(xs[1],ys[1]))\n",
    "        FancyArrowPatch.draw(self, renderer)"
   ]
  },
  {
   "cell_type": "code",
   "execution_count": null,
   "metadata": {
    "collapsed": false
   },
   "outputs": [],
   "source": [
    "%matplotlib inline\n",
    "\n",
    "import matplotlib as mp\n",
    "from mpl_toolkits.mplot3d import Axes3D\n",
    "import matplotlib.pylab as plt\n",
    "import numpy as np\n",
    "import numpy.linalg as ln\n",
    "import scipy as sp\n",
    "import pandas as pd\n",
    "#libreria sismica\n",
    "from seismic_source import SeismicEvent, Source\n",
    "\n",
    "# Dibujar vectores\n",
    "e = SeismicEvent.evento(\"./data-sets/2011_apr_10_07_52\")\n",
    "\n",
    "fig = plt.figure(figsize=(10,10))\n",
    "ax = Axes3D(fig)\n",
    "\n",
    "#estimacion del sismo\n",
    "plt.plot([e.LocX], [e.LocY], [e.LocZ], 'o', markersize=10, color='black', alpha=0.5)\n",
    "\n",
    "for i, ss in enumerate(e.seismograms):\n",
    "\n",
    "    #descomposicion ortgonal de la señal\n",
    "    covariance_matrix = np.cov(np.cumsum(ss.data[:, 2:5], axis=1), rowvar=0)\n",
    "    eig_val, eig_vec = ln.eig(covariance_matrix)\n",
    "\n",
    "    #ubicacion del sensor\n",
    "    X_coord, Y_coord, Z_coord  = (ss.X_coord, ss.Y_coord, ss.Z_coord)\n",
    " \n",
    "    #graficar las direcciones\n",
    "    plt.plot([X_coord], [Y_coord], [Z_coord], 'o', markersize=10, color='red', alpha=0.5, )\n",
    "    n = 200\n",
    "    v0, v1, v2 = eig_vec\n",
    "    \n",
    "    a = Arrow3D([X_coord, X_coord + n*v0[0]], \n",
    "                [Y_coord, Y_coord + n*v0[1]], \n",
    "                [Z_coord, Z_coord + n*v0[2]], mutation_scale=10, arrowstyle=\"-|>\")\n",
    "    ax.add_artist(a)        \n",
    "    \n",
    "    \n",
    "    a = Arrow3D([X_coord, X_coord + n*v1[0]], \n",
    "                [Y_coord, Y_coord + n*v1[1]], \n",
    "                [Z_coord, Z_coord + n*v1[2]], mutation_scale=10, arrowstyle=\"-|>\")\n",
    "    ax.add_artist(a)            \n",
    "    \n",
    "    \n",
    "    \n",
    "    a = Arrow3D([X_coord, X_coord + n*v2[0]], \n",
    "                [Y_coord, Y_coord + n*v2[1]], \n",
    "                [Z_coord, Z_coord + n*v2[2]], mutation_scale=10, arrowstyle=\"-|>\")\n",
    "    ax.add_artist(a)\n",
    "    \n",
    "    ax.set_xlabel('x_values')\n",
    "    ax.set_ylabel('y_values')\n",
    "    ax.set_zlabel('z_values')\n",
    "    plt.draw()\n",
    "    \n",
    "plt.title('direcciones')"
   ]
  },
  {
   "cell_type": "code",
   "execution_count": null,
   "metadata": {
    "collapsed": false
   },
   "outputs": [],
   "source": [
    "#descomposicion ortgonal\n",
    "\n",
    "ss = e.seismograms[14]\n",
    "covariance_matrix = np.cov(cumsum(ss.data[:, 2:5], axis=1), rowvar=0)\n",
    "eig_val, eig_vec = ln.eig(covariance_matrix)\n",
    "\n",
    "# verificar que la matriz sea simetrica y que el cambio de base produzca\n",
    "# covarianza cero entre las 3 se~nales retornar el cambio de dase\n",
    "rot = np.dot(cumsum(ss.data[:, 2:5], axis=1), eig_vec)\n",
    "\n",
    "f, (ax1, ax2, ax3) = plt.subplots(3, sharex=True, sharey=True)\n",
    "ax1.plot(rot[:,0])\n",
    "ax2.plot(rot[:,1])\n",
    "ax3.plot(rot[:,2])"
   ]
  },
  {
   "cell_type": "markdown",
   "metadata": {
    "collapsed": true
   },
   "source": [
    "Resultado principal\n",
    "==\n",
    "Mediante este método la estimación del epicentro sísmico de obtiene"
   ]
  },
  {
   "cell_type": "code",
   "execution_count": null,
   "metadata": {
    "collapsed": false
   },
   "outputs": [],
   "source": [
    "X_coord"
   ]
  },
  {
   "cell_type": "code",
   "execution_count": null,
   "metadata": {
    "collapsed": false
   },
   "outputs": [],
   "source": [
    "v[0]"
   ]
  },
  {
   "cell_type": "code",
   "execution_count": null,
   "metadata": {
    "collapsed": true
   },
   "outputs": [],
   "source": []
  }
 ],
 "metadata": {
  "kernelspec": {
   "display_name": "Python 2",
   "language": "python",
   "name": "python2"
  },
  "language_info": {
   "codemirror_mode": {
    "name": "ipython",
    "version": 2
   },
   "file_extension": ".py",
   "mimetype": "text/x-python",
   "name": "python",
   "nbconvert_exporter": "python",
   "pygments_lexer": "ipython2",
   "version": "2.7.11"
  }
 },
 "nbformat": 4,
 "nbformat_minor": 0
}
